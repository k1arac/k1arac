{
  "nbformat": 4,
  "nbformat_minor": 0,
  "metadata": {
    "colab": {
      "name": "LabAnalysis3",
      "provenance": [],
      "collapsed_sections": [],
      "include_colab_link": true
    },
    "kernelspec": {
      "name": "python3",
      "display_name": "Python 3"
    },
    "language_info": {
      "name": "python"
    }
  },
  "cells": [
    {
      "cell_type": "markdown",
      "metadata": {
        "id": "view-in-github",
        "colab_type": "text"
      },
      "source": [
        "<a href=\"https://colab.research.google.com/github/k1arac/k1arac/blob/main/LabAnalysis3.ipynb\" target=\"_parent\"><img src=\"https://colab.research.google.com/assets/colab-badge.svg\" alt=\"Open In Colab\"/></a>"
      ]
    },
    {
      "cell_type": "markdown",
      "metadata": {
        "id": "RBFO6nTSr9p1"
      },
      "source": [
        "As in other assignments, run this first code block to import necessary libraries"
      ]
    },
    {
      "cell_type": "code",
      "metadata": {
        "id": "rl2JqjsMqXUV"
      },
      "source": [
        "# necessary libraries\n",
        "import numpy as np\n",
        "import matplotlib.pyplot as plt\n"
      ],
      "execution_count": 1,
      "outputs": []
    },
    {
      "cell_type": "markdown",
      "metadata": {
        "id": "V4Zs3hMRD3Fj"
      },
      "source": [
        "#Create your data array\n",
        "\n",
        "Create a spreadsheet (use google sheets, ms excel, whatever you want) duplicating the table in your lab book. Include a header row. Save the spreadsheet in tab delimited text format as lab3data.txt (Also save a copy in the native format - e.g. .xlsx for excel). If you use google sheets, download a \"tab separated value\" file then change the \".tsv\" extension to \".txt\"\n",
        "\n",
        "**Make sure you use a consistent unit for the energy** IE if the energy change is 2.14 mJ, you could either enter .00214 (units are Joules) or 2.14 (units are mJ) but use the same choice throughout. \n",
        "\n",
        "Upload this spreadsheet to your lab3-data-repository (https://github.com/NYUExperimentalPhysics1-2021/lab3-data-repository-yourgithubname) archive on github\n",
        "\n",
        "Then change the line that starts !wget to use the correct repository name\n",
        "\n",
        "When you run this, you should see your data displayed"
      ]
    },
    {
      "cell_type": "code",
      "metadata": {
        "id": "T8CH_RWaGU7N",
        "colab": {
          "base_uri": "https://localhost:8080/"
        },
        "outputId": "2b6334c6-d6c1-43e4-d5c0-bcf87e83789d"
      },
      "source": [
        "!wget -nc https://raw.githubusercontent.com/NYUExperimentalPhysics1-2021/lab3-data-repository-k1arac/main/lab3data.txt\n",
        "!more lab3data.txt"
      ],
      "execution_count": 2,
      "outputs": [
        {
          "output_type": "stream",
          "name": "stdout",
          "text": [
            "--2021-12-01 16:07:05--  https://raw.githubusercontent.com/NYUExperimentalPhysics1-2021/lab3-data-repository-k1arac/main/lab3data.txt\n",
            "Resolving raw.githubusercontent.com (raw.githubusercontent.com)... 185.199.109.133, 185.199.110.133, 185.199.108.133, ...\n",
            "Connecting to raw.githubusercontent.com (raw.githubusercontent.com)|185.199.109.133|:443... connected.\n",
            "HTTP request sent, awaiting response... 200 OK\n",
            "Length: 961 [text/plain]\n",
            "Saving to: ‘lab3data.txt’\n",
            "\n",
            "\rlab3data.txt          0%[                    ]       0  --.-KB/s               \rlab3data.txt        100%[===================>]     961  --.-KB/s    in 0s      \n",
            "\n",
            "2021-12-01 16:07:05 (37.0 MB/s) - ‘lab3data.txt’ saved [961/961]\n",
            "\n",
            "phase\tduration\tavgnrg\tnumhalfcycles\telapsedtime\tlifetime_s\t\n",
            "lifetime_asq\tdeltanrg\tcoilnrg\tnrgloss\tcoiladj\n",
            "25\t7\t14.460\t101\t103.018\t941.472\t883.824\t4.538\t7.598\t1.663\t\n",
            "0.8\n",
            "25\t7\t16.156\t100\t102.338\t871.471\t891.869\t3.342\t6.367\t1.871\t\n",
            "0.8\n",
            "25\t7\t14.430\t100\t102.06\t704.517\t676.135\t4.561\t7.552\t1.651\t\n",
            "0.8\n",
            "30\t7\t14.332\t101\t103.108\t861.457\t865.663\t1.301\t3.636\t2.186\t\n",
            "1.0\n",
            "30\t7\t13.858\t100\t102.133\t938.321\t901.582\t1.651\t3.867\t1.635\t\n",
            "0.8\n",
            "30\t7\t13.732\t101\t103.206\t960.637\t943.891\t1.587\t4.011\t3.159\t\n",
            "1.2\n",
            "30\t15\t10.456\t100\t102.234\t1062.77\t1040.91\t8.923\t11.458\t1.133\t\n",
            "0.9\n",
            "30\t15\t15.156\t100\t102.077\t921.927\t904.251\t4.139\t6.153\t1.486\t\n",
            "0.9\n",
            "30\t15\t16.488\t103\t105.195\t915.608\t910.432\t2.93\t4.975\t1.918\t\n",
            "1.0\n",
            "45\t7\t14.778\t101\t103.026\t972.002\t990.175\t-1.335\t0.000137323\t\n",
            "1.672\t2454.1\n",
            "45\t7\t11.82\t100\t101.945\t1103.54\t1077.77\t-0.000818556\t0.000531\n",
            "\u001b[K"
          ]
        }
      ]
    },
    {
      "cell_type": "markdown",
      "metadata": {
        "id": "o9-yrTRqwKBW"
      },
      "source": [
        "#Load the data\n",
        "\n",
        "The load command below assumes you created the 11 columns listed in the lab handout in the order specified,  that the data file is named \"lab3data.txt\" and that there is one header row.  If that's not right, edit the line below to make it align with what you did. "
      ]
    },
    {
      "cell_type": "code",
      "metadata": {
        "id": "A6SwEzgLKDg0"
      },
      "source": [
        "phase, duration, avgnrg, numhalfcycles, elapsedtime, lifetime_s, lifetime_asq, deltanrg, coilnrg, nrgloss,coiladj  = np.loadtxt('lab3data.txt', skiprows = 1, unpack=True)"
      ],
      "execution_count": 3,
      "outputs": []
    },
    {
      "cell_type": "markdown",
      "metadata": {
        "id": "N0bdfYhiLgcs"
      },
      "source": [
        "# Make a scatter plot of calculated coil energy vs calculated mechanical energy and fit the data to a line\n",
        "\n",
        "the total electical energy the pico calculated is stored in `coilnrg`\n",
        "\n",
        "the change in the bob's energy is stored in `deltanrg`\n",
        "\n",
        "the calculated energy lost to damping is stored in `nrgloss`\n",
        "\n",
        "the mechanical energy imparted to the bob is the change in the bob's energy + the energy lost due to damping (for exaample, if you were putting in exactly what was needed to overcome damping, then the bob's energy change would be 0)\n",
        "\n",
        "1. Please make a scatter plot with the calculated electrical energy on the x-axis and the calculated energy imparted to the bob on the y-axis. Use blue dots. Don't connect the lines. Label the axes. Make sure you specify whether energy is in Joules or milliJoules, etc. \n",
        "\n",
        "Now we'd like to know if there's a simple scaling relation between the calculated electrical and mechanical energies. IE mechanical = a * electrical, where maybe a = 80%. \n",
        "\n",
        "`np.polyfit(x,y,1)` will fit the data to a line, but the intercept won't necessarily be through 0. Here physics tells us that if the electrical energy is 0, the mechanical energy added must also be 0. So we need to fit the line $y = a x$, not $y = a x + b$. Fortunately, this is a straightfoward problem. The least-squares solution is\n",
        "\n",
        "$a = \\frac{\\sum_i x_i y_i}{\\sum_i x_i^2}$\n",
        "\n",
        "2. Find the best (least-squares) fit for the scaling factor. Draw a black dashed line matching this fit through the data. Title the plot with the scaling factor.\n"
      ]
    },
    {
      "cell_type": "code",
      "metadata": {
        "id": "YH21p6r1QUzJ"
      },
      "source": [
        "## your answer here"
      ],
      "execution_count": null,
      "outputs": []
    },
    {
      "cell_type": "markdown",
      "metadata": {
        "id": "md_Iy1NGSTB4"
      },
      "source": [
        "#Make a scatter plot of calculated coil energy per $\\frac{1}{2}$ cycle vs calculated mechanical energy per $\\frac{1}{2}$ and fit the data to a line\n",
        "\n",
        "the same as above, but this time divide all the energies by the number of half cycles (this is the same as the number of pulses).\n"
      ]
    },
    {
      "cell_type": "code",
      "metadata": {
        "id": "cR1CUKJ4SmUr"
      },
      "source": [
        "## your answer here"
      ],
      "execution_count": null,
      "outputs": []
    },
    {
      "cell_type": "markdown",
      "metadata": {
        "id": "zYXcoJKYXc66"
      },
      "source": [
        "#Look for systematics\n",
        "\n",
        "If everything is going well, we wouldn't expect the scaling to depend on things like the size of the pulse or what fraction of the energy is lost to damping. \n",
        "\n",
        "1. remake the scatter plot above (per half cycle), including the fit line, but this time use a blue marker if the per energy pulse is above the median (top half) and a red marker if the per energy pulse is below he median (bottom half)\n",
        "\n",
        "2. Make a new figure. remake the scatter plot above (per half cycle), including the fit line, but this time use a blue marker if the ratio of energy loss to total energy change is above the median (top half) and a red marker if the per energy pulse is below he median (bottom half)\n",
        "\n",
        "hint: [you can use true/false arrays to index another array](https://numpy.org/doc/stable/user/basics.indexing.html#boolean-or-mask-index-arrays) For instance if x and y are numpy arrays of the same size, `y[x<10]` gives you all values of `y` for which `x < 10`.\n",
        "\n"
      ]
    },
    {
      "cell_type": "code",
      "metadata": {
        "id": "ecFlgjZNY87y"
      },
      "source": [
        "## your code here"
      ],
      "execution_count": null,
      "outputs": []
    },
    {
      "cell_type": "markdown",
      "metadata": {
        "id": "DxCp1hzCY-ri"
      },
      "source": [
        "## Question - answer below\n",
        "\n",
        "Is there a pattern to either of these scatter plots? Is one data type consistently above the fit line and the other below it, or are they all spread out?"
      ]
    },
    {
      "cell_type": "markdown",
      "metadata": {
        "id": "HUpflwFNZMNL"
      },
      "source": [
        "#Plot the residuals\n",
        "\n",
        "Make the scatter plot per half cycle again, but this time subtract the linear fit from the y-data. So you should have a plot of $(x, y-ax)$ where $x$ is the calculated electrical energy, $y$ is the calculated mechanical energy added, and $a$ is the best-fit scaling factor"
      ]
    },
    {
      "cell_type": "code",
      "metadata": {
        "id": "qjxkZwkxaKps"
      },
      "source": [
        "## your code here"
      ],
      "execution_count": null,
      "outputs": []
    },
    {
      "cell_type": "markdown",
      "metadata": {
        "id": "oJcKnq-SaM26"
      },
      "source": [
        "#Make a histogram of fractional error\n",
        "\n",
        "1. Make a histogram of the fractional error: $\\frac{y - ax}{y}$, where $x$ is the calculated electrical energy, $y$ is the calculated mechanical energy added, and $a$ is the best-fit scaling factor\n",
        "\n",
        "2. Calculate the root mean square fractional error (that is $\\sqrt{\\frac{1}{N}\\sum_i (\\frac{y_i - ax_i}{y_i})^2}$. Why did I tell you to use this instead of the standard deviation? What's the difference?"
      ]
    },
    {
      "cell_type": "code",
      "metadata": {
        "id": "Trl2MEL8bGnW"
      },
      "source": [
        "##your answer here"
      ],
      "execution_count": null,
      "outputs": []
    },
    {
      "cell_type": "markdown",
      "metadata": {
        "id": "oUQ4zUtGbw6F"
      },
      "source": [
        ""
      ]
    },
    {
      "cell_type": "markdown",
      "metadata": {
        "id": "xrYDF4lGbJCW"
      },
      "source": [
        "# Analysis\n",
        "\n",
        "1. Can the electrical energy be used to measure the mechanical energy imparted to the bob?\n",
        "2. How accurately do you think we can estimate the amount of energy added? What limits this accuracy?\n",
        "3. Do you see any evidence of systematic errors? If so, what do you see? What might you do to correct these? "
      ]
    }
  ]
}